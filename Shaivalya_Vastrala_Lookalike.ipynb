{
 "cells": [
  {
   "cell_type": "code",
   "execution_count": 1,
   "id": "97142d9a-39f7-448d-9212-a244c8cf5c91",
   "metadata": {},
   "outputs": [
    {
     "name": "stdout",
     "output_type": "stream",
     "text": [
      "Lookalike.csv has been created!\n"
     ]
    }
   ],
   "source": [
    "import pandas as pd\n",
    "from sklearn.metrics.pairwise import cosine_similarity\n",
    "import numpy as np\n",
    "\n",
    "customers = pd.read_csv(\"C:/Users/chara/OneDrive/Desktop/Customers.csv\")\n",
    "transactions = pd.read_csv(\"C:/Users/chara/OneDrive/Desktop/transactions.csv\")\n",
    "products = pd.read_csv(\"C:/Users/chara/OneDrive/Desktop/Products.csv\")\n",
    "\n",
    "transactions_products = pd.merge(transactions, products, on=\"ProductID\")\n",
    "full_data = pd.merge(transactions_products, customers, on=\"CustomerID\")\n",
    "\n",
    "customer_profiles = full_data.pivot_table(\n",
    "    index=\"CustomerID\",\n",
    "    columns=\"Category\",\n",
    "    values=\"TotalValue\",\n",
    "    aggfunc=\"sum\",\n",
    "    fill_value=0\n",
    ")\n",
    "\n",
    "similarity_matrix = cosine_similarity(customer_profiles)\n",
    "similarity_df = pd.DataFrame(similarity_matrix, index=customer_profiles.index, columns=customer_profiles.index)\n",
    "\n",
    "lookalike_results = {}\n",
    "for customer in similarity_df.index:\n",
    "    similar_customers = similarity_df[customer].sort_values(ascending=False).iloc[1:4]\n",
    "    lookalike_results[customer] = list(zip(similar_customers.index, similar_customers.values))\n",
    "\n",
    "lookalike_df = pd.DataFrame({\n",
    "    \"CustomerID\": lookalike_results.keys(),\n",
    "    \"Top3Lookalikes\": [str(lookalike) for lookalike in lookalike_results.values()]\n",
    "})\n",
    "lookalike_df.to_csv(\"Lookalike.csv\", index=False)\n",
    "\n",
    "print(\"Lookalike.csv has been created!\")"
   ]
  },
  {
   "cell_type": "code",
   "execution_count": null,
   "id": "40f572ec-40fd-400f-bdc7-1886c75544da",
   "metadata": {},
   "outputs": [],
   "source": []
  }
 ],
 "metadata": {
  "kernelspec": {
   "display_name": "Python 3 (ipykernel)",
   "language": "python",
   "name": "python3"
  },
  "language_info": {
   "codemirror_mode": {
    "name": "ipython",
    "version": 3
   },
   "file_extension": ".py",
   "mimetype": "text/x-python",
   "name": "python",
   "nbconvert_exporter": "python",
   "pygments_lexer": "ipython3",
   "version": "3.12.7"
  }
 },
 "nbformat": 4,
 "nbformat_minor": 5
}
